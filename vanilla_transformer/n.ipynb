{
 "cells": [
  {
   "cell_type": "code",
   "execution_count": 1,
   "metadata": {},
   "outputs": [
    {
     "name": "stderr",
     "output_type": "stream",
     "text": [
      "/Users/jacksonfraser/anaconda3/envs/transformers/lib/python3.11/site-packages/tqdm/auto.py:21: TqdmWarning: IProgress not found. Please update jupyter and ipywidgets. See https://ipywidgets.readthedocs.io/en/stable/user_install.html\n",
      "  from .autonotebook import tqdm as notebook_tqdm\n",
      "tokenizer_config.json: 100%|██████████| 28.0/28.0 [00:00<00:00, 94.9kB/s]\n",
      "config.json: 100%|██████████| 570/570 [00:00<00:00, 4.74MB/s]\n",
      "vocab.txt: 100%|██████████| 232k/232k [00:00<00:00, 1.87MB/s]\n",
      "tokenizer.json: 100%|██████████| 466k/466k [00:00<00:00, 5.80MB/s]\n"
     ]
    },
    {
     "name": "stdout",
     "output_type": "stream",
     "text": [
      "Encoded tokens: ['[CLS]', 'hello', ',', 'hugging', 'face', '!', '[SEP]']\n",
      "Token IDs: [101, 7592, 1010, 17662, 2227, 999, 102]\n",
      "Decoded text: [CLS] hello, hugging face! [SEP]\n"
     ]
    }
   ],
   "source": [
    "from transformers import AutoTokenizer\n",
    "\n",
    "# Load a pre-trained tokenizer\n",
    "tokenizer = AutoTokenizer.from_pretrained('bert-base-uncased')\n",
    "\n",
    "# Tokenize text\n",
    "text = \"Hello, Hugging Face!\"\n",
    "encoded_input = tokenizer(text)\n",
    "\n",
    "print(\"Encoded tokens:\", encoded_input.tokens())\n",
    "print(\"Token IDs:\", encoded_input['input_ids'])\n",
    "\n",
    "# Decode tokens back to text\n",
    "decoded_text = tokenizer.decode(encoded_input['input_ids'])\n",
    "print(\"Decoded text:\", decoded_text)\n"
   ]
  }
 ],
 "metadata": {
  "kernelspec": {
   "display_name": "transformers",
   "language": "python",
   "name": "python3"
  },
  "language_info": {
   "codemirror_mode": {
    "name": "ipython",
    "version": 3
   },
   "file_extension": ".py",
   "mimetype": "text/x-python",
   "name": "python",
   "nbconvert_exporter": "python",
   "pygments_lexer": "ipython3",
   "version": "3.11.5"
  }
 },
 "nbformat": 4,
 "nbformat_minor": 2
}
